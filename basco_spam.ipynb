{
 "cells": [
  {
   "cell_type": "code",
   "execution_count": 1,
   "id": "955c11ae",
   "metadata": {},
   "outputs": [],
   "source": [
    "#IMPORT LIBARIES NEEDED TO EXECUTE THE PROGRAM PROPERLY\n",
    "\n",
    "import numpy as np # linear algebra\n",
    "#IMPORT PANDAS FOR DATA PROCESSING\n",
    "import pandas as pd \n",
    "import matplotlib.pyplot as plt \n",
    "import tensorflow as tf  \n",
    "from tensorflow.keras.layers import Dense\n",
    "from tensorflow.keras.models import Sequential\n",
    "from tensorflow.keras.preprocessing.text import Tokenizer\n",
    "from tensorflow.keras.preprocessing.sequence import pad_sequences\n",
    "from sklearn.model_selection import train_test_split"
   ]
  },
  {
   "cell_type": "code",
   "execution_count": 2,
   "id": "0328e931",
   "metadata": {},
   "outputs": [],
   "source": [
    "#PREPARING DATA\n",
    "data = pd.read_csv('Assignment_Spam.csv',encoding='latin-1')"
   ]
  },
  {
   "cell_type": "code",
   "execution_count": 3,
   "id": "68d25183",
   "metadata": {},
   "outputs": [],
   "source": [
    "data = data.drop([\"Unnamed: 2\", \"Unnamed: 3\", \"Unnamed: 4\"], axis=1)\n",
    "data = data.rename(columns={\"v1\":'label', \"v2\":'text'})\n",
    "#print(data.head())\n",
    "tags = data[\"label\"]\n",
    "texts = data[\"text\"]"
   ]
  },
  {
   "cell_type": "code",
   "execution_count": 4,
   "id": "bae1c3b0",
   "metadata": {},
   "outputs": [],
   "source": [
    "#LABELLING OF 0 AND 1 FOR CLASSIFICATION\n",
    "data['label'].unique()\n",
    "label = {'spam': 1,'ham': 0}\n",
    "data['label'].replace(label, inplace=True)"
   ]
  },
  {
   "cell_type": "code",
   "execution_count": 5,
   "id": "b1e16775",
   "metadata": {},
   "outputs": [],
   "source": [
    "# SEPERATING SETS AND TAGS\n",
    "training_size = int(len(texts) * 0.8 )\n",
    "\n",
    "training_texts = texts[0:training_size]\n",
    "testing_texts = texts[training_size:]\n",
    "training_tags = tags[0:training_size]\n",
    "testing_tags = tags[training_size:]"
   ]
  },
  {
   "cell_type": "code",
   "execution_count": 6,
   "id": "938e0ef7",
   "metadata": {},
   "outputs": [],
   "source": [
    "#LABELLING OF NUMPY ARRAYS\n",
    "training_tags_final = np.array(training_tags)\n",
    "testing_tags_final = np.array(testing_tags) "
   ]
  },
  {
   "cell_type": "code",
   "execution_count": 7,
   "id": "92707d49",
   "metadata": {},
   "outputs": [],
   "source": [
    "#DATA SETS FOR TOKENIZING\n",
    "vocab_size = 1000\n",
    "embedding_dim = 16\n",
    "max_length = 100\n",
    "trunc_type='post'\n",
    "padding_type='post'\n",
    "oov_tok = \"<OOV>\"\n",
    "\n",
    "tokenizer = Tokenizer(num_words = vocab_size, oov_token=oov_tok)\n",
    "tokenizer.fit_on_texts(training_texts)\n",
    "word_index = tokenizer.word_index\n",
    "sequences = tokenizer.texts_to_sequences(training_texts)\n",
    "padded = pad_sequences(sequences,maxlen=max_length, padding=padding_type, \n",
    "                       truncating=trunc_type)\n",
    "\n",
    "testing_sequences = tokenizer.texts_to_sequences(testing_texts)\n",
    "testing_padded = pad_sequences(testing_sequences,maxlen=max_length, \n",
    "                               padding=padding_type, truncating=trunc_type)"
   ]
  },
  {
   "cell_type": "code",
   "execution_count": 8,
   "id": "784f06d4",
   "metadata": {},
   "outputs": [
    {
     "name": "stdout",
     "output_type": "stream",
     "text": [
      "Model: \"sequential\"\n",
      "_________________________________________________________________\n",
      " Layer (type)                Output Shape              Param #   \n",
      "=================================================================\n",
      " embedding (Embedding)       (None, 100, 16)           16000     \n",
      "                                                                 \n",
      " flatten (Flatten)           (None, 1600)              0         \n",
      "                                                                 \n",
      " dense (Dense)               (None, 6)                 9606      \n",
      "                                                                 \n",
      " dense_1 (Dense)             (None, 1)                 7         \n",
      "                                                                 \n",
      "=================================================================\n",
      "Total params: 25,613\n",
      "Trainable params: 25,613\n",
      "Non-trainable params: 0\n",
      "_________________________________________________________________\n"
     ]
    }
   ],
   "source": [
    "#Modelling of the program\n",
    "model = tf.keras.Sequential([tf.keras.layers.Embedding(vocab_size, embedding_dim, input_length=max_length), tf.keras.layers.Flatten(), tf.keras.layers.Dense(6, activation='relu'), tf.keras.layers.Dense(1, activation='sigmoid')])\n",
    "model.compile(loss='binary_crossentropy',optimizer='adam',metrics=['accuracy'])\n",
    "model.summary()"
   ]
  },
  {
   "cell_type": "code",
   "execution_count": 9,
   "id": "fb0ebcc1",
   "metadata": {},
   "outputs": [
    {
     "name": "stdout",
     "output_type": "stream",
     "text": [
      "Epoch 1/45\n",
      "140/140 [==============================] - 1s 4ms/step - loss: 0.4014 - accuracy: 0.8564 - val_loss: 0.2237 - val_accuracy: 0.8700\n",
      "Epoch 2/45\n",
      "140/140 [==============================] - 0s 2ms/step - loss: 0.1850 - accuracy: 0.8647 - val_loss: 0.1560 - val_accuracy: 0.8700\n",
      "Epoch 3/45\n",
      "140/140 [==============================] - 0s 2ms/step - loss: 0.1470 - accuracy: 0.9659 - val_loss: 0.1364 - val_accuracy: 0.9731\n",
      "Epoch 4/45\n",
      "140/140 [==============================] - 0s 2ms/step - loss: 0.1270 - accuracy: 0.9782 - val_loss: 0.1247 - val_accuracy: 0.9803\n",
      "Epoch 5/45\n",
      "140/140 [==============================] - 0s 2ms/step - loss: 0.0852 - accuracy: 0.9859 - val_loss: 0.0554 - val_accuracy: 0.9812\n",
      "Epoch 6/45\n",
      "140/140 [==============================] - 0s 2ms/step - loss: 0.0323 - accuracy: 0.9912 - val_loss: 0.0509 - val_accuracy: 0.9830\n",
      "Epoch 7/45\n",
      "140/140 [==============================] - 0s 2ms/step - loss: 0.0241 - accuracy: 0.9921 - val_loss: 0.0517 - val_accuracy: 0.9839\n",
      "Epoch 8/45\n",
      "140/140 [==============================] - 0s 3ms/step - loss: 0.0183 - accuracy: 0.9944 - val_loss: 0.0532 - val_accuracy: 0.9848\n",
      "Epoch 9/45\n",
      "140/140 [==============================] - 0s 2ms/step - loss: 0.0145 - accuracy: 0.9953 - val_loss: 0.0498 - val_accuracy: 0.9857\n",
      "Epoch 10/45\n",
      "140/140 [==============================] - 0s 2ms/step - loss: 0.0115 - accuracy: 0.9969 - val_loss: 0.0542 - val_accuracy: 0.9865\n",
      "Epoch 11/45\n",
      "140/140 [==============================] - 0s 2ms/step - loss: 0.0096 - accuracy: 0.9984 - val_loss: 0.0554 - val_accuracy: 0.9857\n",
      "Epoch 12/45\n",
      "140/140 [==============================] - 0s 2ms/step - loss: 0.0080 - accuracy: 0.9987 - val_loss: 0.0558 - val_accuracy: 0.9848\n",
      "Epoch 13/45\n",
      "140/140 [==============================] - 0s 2ms/step - loss: 0.0071 - accuracy: 0.9993 - val_loss: 0.0622 - val_accuracy: 0.9857\n",
      "Epoch 14/45\n",
      "140/140 [==============================] - 0s 2ms/step - loss: 0.0061 - accuracy: 0.9993 - val_loss: 0.0626 - val_accuracy: 0.9857\n",
      "Epoch 15/45\n",
      "140/140 [==============================] - 0s 2ms/step - loss: 0.0053 - accuracy: 0.9993 - val_loss: 0.0635 - val_accuracy: 0.9865\n",
      "Epoch 16/45\n",
      "140/140 [==============================] - 0s 2ms/step - loss: 0.0048 - accuracy: 0.9993 - val_loss: 0.0652 - val_accuracy: 0.9865\n",
      "Epoch 17/45\n",
      "140/140 [==============================] - 0s 2ms/step - loss: 0.0043 - accuracy: 0.9993 - val_loss: 0.0676 - val_accuracy: 0.9865\n",
      "Epoch 18/45\n",
      "140/140 [==============================] - 0s 2ms/step - loss: 0.0039 - accuracy: 0.9993 - val_loss: 0.0694 - val_accuracy: 0.9874\n",
      "Epoch 19/45\n",
      "140/140 [==============================] - 0s 2ms/step - loss: 0.0034 - accuracy: 0.9993 - val_loss: 0.0698 - val_accuracy: 0.9874\n",
      "Epoch 20/45\n",
      "140/140 [==============================] - 0s 2ms/step - loss: 0.0031 - accuracy: 0.9996 - val_loss: 0.0694 - val_accuracy: 0.9874\n",
      "Epoch 21/45\n",
      "140/140 [==============================] - 0s 2ms/step - loss: 0.0027 - accuracy: 0.9993 - val_loss: 0.0694 - val_accuracy: 0.9857\n",
      "Epoch 22/45\n",
      "140/140 [==============================] - 0s 2ms/step - loss: 0.0028 - accuracy: 0.9996 - val_loss: 0.0732 - val_accuracy: 0.9874\n",
      "Epoch 23/45\n",
      "140/140 [==============================] - 0s 2ms/step - loss: 0.0024 - accuracy: 0.9996 - val_loss: 0.0745 - val_accuracy: 0.9874\n",
      "Epoch 24/45\n",
      "140/140 [==============================] - 0s 2ms/step - loss: 0.0023 - accuracy: 0.9998 - val_loss: 0.0753 - val_accuracy: 0.9865\n",
      "Epoch 25/45\n",
      "140/140 [==============================] - 0s 2ms/step - loss: 0.0020 - accuracy: 0.9998 - val_loss: 0.0818 - val_accuracy: 0.9857\n",
      "Epoch 26/45\n",
      "140/140 [==============================] - 0s 2ms/step - loss: 0.0018 - accuracy: 0.9998 - val_loss: 0.0844 - val_accuracy: 0.9857\n",
      "Epoch 27/45\n",
      "140/140 [==============================] - 0s 2ms/step - loss: 0.0019 - accuracy: 0.9998 - val_loss: 0.0835 - val_accuracy: 0.9848\n",
      "Epoch 28/45\n",
      "140/140 [==============================] - 0s 3ms/step - loss: 0.0017 - accuracy: 0.9998 - val_loss: 0.0888 - val_accuracy: 0.9848\n",
      "Epoch 29/45\n",
      "140/140 [==============================] - 0s 2ms/step - loss: 0.0016 - accuracy: 0.9998 - val_loss: 0.0878 - val_accuracy: 0.9857\n",
      "Epoch 30/45\n",
      "140/140 [==============================] - 0s 2ms/step - loss: 0.0016 - accuracy: 0.9998 - val_loss: 0.0886 - val_accuracy: 0.9848\n",
      "Epoch 31/45\n",
      "140/140 [==============================] - 0s 2ms/step - loss: 0.0015 - accuracy: 0.9998 - val_loss: 0.0890 - val_accuracy: 0.9839\n",
      "Epoch 32/45\n",
      "140/140 [==============================] - 0s 2ms/step - loss: 0.0014 - accuracy: 0.9998 - val_loss: 0.0850 - val_accuracy: 0.9848\n",
      "Epoch 33/45\n",
      "140/140 [==============================] - 0s 2ms/step - loss: 0.0014 - accuracy: 0.9998 - val_loss: 0.0869 - val_accuracy: 0.9848\n",
      "Epoch 34/45\n",
      "140/140 [==============================] - 0s 2ms/step - loss: 0.0011 - accuracy: 0.9998 - val_loss: 0.0914 - val_accuracy: 0.9848\n",
      "Epoch 35/45\n",
      "140/140 [==============================] - 0s 2ms/step - loss: 0.0012 - accuracy: 0.9998 - val_loss: 0.0867 - val_accuracy: 0.9857\n",
      "Epoch 36/45\n",
      "140/140 [==============================] - 0s 3ms/step - loss: 0.0011 - accuracy: 0.9996 - val_loss: 0.0951 - val_accuracy: 0.9839\n",
      "Epoch 37/45\n",
      "140/140 [==============================] - 0s 2ms/step - loss: 0.0011 - accuracy: 0.9998 - val_loss: 0.0885 - val_accuracy: 0.9857\n",
      "Epoch 38/45\n",
      "140/140 [==============================] - 0s 2ms/step - loss: 0.0012 - accuracy: 0.9998 - val_loss: 0.0921 - val_accuracy: 0.9857\n",
      "Epoch 39/45\n",
      "140/140 [==============================] - 0s 2ms/step - loss: 0.0012 - accuracy: 0.9998 - val_loss: 0.0997 - val_accuracy: 0.9839\n",
      "Epoch 40/45\n",
      "140/140 [==============================] - 0s 2ms/step - loss: 0.0011 - accuracy: 0.9998 - val_loss: 0.1020 - val_accuracy: 0.9830\n",
      "Epoch 41/45\n",
      "140/140 [==============================] - 0s 2ms/step - loss: 0.0012 - accuracy: 0.9998 - val_loss: 0.1015 - val_accuracy: 0.9839\n",
      "Epoch 42/45\n",
      "140/140 [==============================] - 0s 2ms/step - loss: 9.8946e-04 - accuracy: 0.9998 - val_loss: 0.0947 - val_accuracy: 0.9857\n",
      "Epoch 43/45\n",
      "140/140 [==============================] - 0s 2ms/step - loss: 0.0010 - accuracy: 0.9996 - val_loss: 0.1055 - val_accuracy: 0.9839\n",
      "Epoch 44/45\n",
      "140/140 [==============================] - 0s 2ms/step - loss: 0.0011 - accuracy: 0.9998 - val_loss: 0.1047 - val_accuracy: 0.9839\n",
      "Epoch 45/45\n",
      "140/140 [==============================] - 0s 2ms/step - loss: 9.2298e-04 - accuracy: 0.9998 - val_loss: 0.1000 - val_accuracy: 0.9848\n"
     ]
    }
   ],
   "source": [
    "#TESTING THE NUMBER OF EPOCHS\n",
    "num_epochs = 45\n",
    "history = model.fit(padded, training_tags_final, epochs=num_epochs, validation_data=(testing_padded, testing_tags_final))"
   ]
  },
  {
   "cell_type": "code",
   "execution_count": 20,
   "id": "01996a2d",
   "metadata": {},
   "outputs": [
    {
     "name": "stdout",
     "output_type": "stream",
     "text": [
      "dict_keys(['loss', 'accuracy', 'val_loss', 'val_accuracy'])\n"
     ]
    },
    {
     "data": {
      "image/png": "[encoded data removed]",
      "text/plain": [
       "<Figure size 432x288 with 1 Axes>"
      ]
     },
     "metadata": {
      "needs_background": "light"
     },
     "output_type": "display_data"
    }
   ],
   "source": [
    "#SUMMARIZATION OF ACCURACY\n",
    "print(history.history.keys())\n",
    "\n",
    "plt.plot(history.history['loss'])\n",
    "plt.plot(history.history['val_loss'])\n",
    "plt.title('model loss')\n",
    "plt.ylabel('loss')\n",
    "plt.xlabel('epoch')\n",
    "plt.legend(['train', 'val'], loc='upper left')\n",
    "plt.show()"
   ]
  },
  {
   "cell_type": "code",
   "execution_count": 26,
   "id": "52763500",
   "metadata": {},
   "outputs": [],
   "source": [
    "#DATA READING OPENING OF CSV OUPUT\n",
    "data = pd.read_csv('Assignment_Output.csv',encoding='latin-1')"
   ]
  },
  {
   "cell_type": "code",
   "execution_count": 27,
   "id": "188ebb88",
   "metadata": {},
   "outputs": [
    {
     "data": {
      "text/html": [
       "<div>\n",
       "<style scoped>\n",
       "    .dataframe tbody tr th:only-of-type {\n",
       "        vertical-align: middle;\n",
       "    }\n",
       "\n",
       "    .dataframe tbody tr th {\n",
       "        vertical-align: top;\n",
       "    }\n",
       "\n",
       "    .dataframe thead th {\n",
       "        text-align: right;\n",
       "    }\n",
       "</style>\n",
       "<table border=\"1\" class=\"dataframe\">\n",
       "  <thead>\n",
       "    <tr style=\"text-align: right;\">\n",
       "      <th></th>\n",
       "      <th>labels</th>\n",
       "      <th>texts</th>\n",
       "    </tr>\n",
       "  </thead>\n",
       "  <tbody>\n",
       "    <tr>\n",
       "      <th>0</th>\n",
       "      <td>1</td>\n",
       "      <td>Feel Yourself That You Are Always Happy.. Slow...</td>\n",
       "    </tr>\n",
       "    <tr>\n",
       "      <th>1</th>\n",
       "      <td>2</td>\n",
       "      <td>staff.science.nus.edu.sg/~phyhcmk/teaching/pc1323</td>\n",
       "    </tr>\n",
       "    <tr>\n",
       "      <th>2</th>\n",
       "      <td>3</td>\n",
       "      <td>Send me yetty's number pls.</td>\n",
       "    </tr>\n",
       "    <tr>\n",
       "      <th>3</th>\n",
       "      <td>4</td>\n",
       "      <td>Hey so this sat are we going for the intro pil...</td>\n",
       "    </tr>\n",
       "    <tr>\n",
       "      <th>4</th>\n",
       "      <td>5</td>\n",
       "      <td>I got it before the new year cos yetunde said ...</td>\n",
       "    </tr>\n",
       "  </tbody>\n",
       "</table>\n",
       "</div>"
      ],
      "text/plain": [
       "   labels                                              texts\n",
       "0       1  Feel Yourself That You Are Always Happy.. Slow...\n",
       "1       2  staff.science.nus.edu.sg/~phyhcmk/teaching/pc1323\n",
       "2       3                        Send me yetty's number pls.\n",
       "3       4  Hey so this sat are we going for the intro pil...\n",
       "4       5  I got it before the new year cos yetunde said ..."
      ]
     },
     "execution_count": 27,
     "metadata": {},
     "output_type": "execute_result"
    }
   ],
   "source": [
    "data = data.rename(columns={\"ï»¿\":'labels', \"text\":'texts'})\n",
    "data.head()"
   ]
  },
  {
   "cell_type": "code",
   "execution_count": 28,
   "id": "7101087e",
   "metadata": {},
   "outputs": [
    {
     "name": "stdout",
     "output_type": "stream",
     "text": [
      "0     Feel Yourself That You Are Always Happy.. Slow...\n",
      "1     staff.science.nus.edu.sg/~phyhcmk/teaching/pc1323\n",
      "2                           Send me yetty's number pls.\n",
      "3     Hey so this sat are we going for the intro pil...\n",
      "4     I got it before the new year cos yetunde said ...\n",
      "5     Hey we can go jazz power yoga hip hop kb and y...\n",
      "6     Hey mate. Spoke to the mag people. Weâ°ÃÃ·re...\n",
      "7                                Morning only i can ok.\n",
      "8                                  Wat time Ã_ finish?\n",
      "9                 Shant disturb u anymore... Jia you...\n",
      "10    4mths half price Orange line rental & latest c...\n",
      "11    Your opinion about me? 1. Over 2. Jada 3. Kusr...\n",
      "12    MOON has come to color your dreams, STARS to m...\n",
      "13    You are a winner U have been specially selecte...\n",
      "14    Unless it's a situation where YOU GO GURL woul...\n",
      "15    Awww dat is sweet! We can think of something t...\n",
      "16                              Bring tat cd don forget\n",
      "17    Single line with a big meaning::::: \\Miss anyt...\n",
      "18       Jay's getting really impatient and belligerent\n",
      "19    Lol they were mad at first but then they woke ...\n",
      "Name: texts, dtype: object\n"
     ]
    }
   ],
   "source": [
    "#PRINT MESSAGES FOR CHECKING\n",
    "messages = data['texts'].astype(str)\n",
    "print(messages)\n"
   ]
  },
  {
   "cell_type": "code",
   "execution_count": 30,
   "id": "99e0a528",
   "metadata": {},
   "outputs": [],
   "source": [
    "# MAKING AND CREATING A SEQUENCES\n",
    "padding_type='post'\n",
    "sample_sequences = tokenizer.texts_to_sequences(messages)\n",
    "fakes_padded = pad_sequences(sample_sequences, padding=padding_type, maxlen=max_length)     \n",
    "\n",
    "classes = model.predict(fakes_padded)\n"
   ]
  },
  {
   "cell_type": "code",
   "execution_count": 31,
   "id": "f34e5da9",
   "metadata": {},
   "outputs": [
    {
     "name": "stdout",
     "output_type": "stream",
     "text": [
      "Feel Yourself That You Are Always Happy.. Slowly It Becomes Your Habit &amp; Finally It Becomes Part Of Your Life.. Follow It.. Happy Morning &amp; Have A Happy Day:)\n",
      "[3.6171854e-11]\n",
      "\n",
      "\n",
      "staff.science.nus.edu.sg/~phyhcmk/teaching/pc1323\n",
      "[0.00271049]\n",
      "\n",
      "\n",
      "Send me yetty's number pls.\n",
      "[0.00011249]\n",
      "\n",
      "\n",
      "Hey so this sat are we going for the intro pilates only? Or the kickboxing too? \n",
      "[4.1715352e-06]\n",
      "\n",
      "\n",
      "I got it before the new year cos yetunde said she wanted to surprise you with it but when i didnt see money i returned it mid january before the  &lt;#&gt; day return period ended.\n",
      "[1.1028147e-08]\n",
      "\n",
      "\n",
      "Hey we can go jazz power yoga hip hop kb and yogasana \n",
      "[7.618884e-06]\n",
      "\n",
      "\n",
      "Hey mate. Spoke to the mag people. Weâ°ÃÃ·re on.  the is deliver by the end of the month. Deliver on the 24th sept. Talk later. \n",
      "[1.1565215e-06]\n",
      "\n",
      "\n",
      "Morning only i can ok.\n",
      "[6.459843e-07]\n",
      "\n",
      "\n",
      "Wat time Ã_ finish?\n",
      "[7.445236e-05]\n",
      "\n",
      "\n",
      "Shant disturb u anymore... Jia you...\n",
      "[0.00018714]\n",
      "\n",
      "\n",
      "4mths half price Orange line rental & latest camera phones 4 FREE. Had your phone 11mths ? Call MobilesDirect free on 08000938767 to update now! or2stoptxt\n",
      "[0.99999976]\n",
      "\n",
      "\n",
      "Your opinion about me? 1. Over 2. Jada 3. Kusruthi 4. Lovable 5. Silent 6. Spl character 7. Not matured 8. Stylish 9. Simple Pls reply..\n",
      "[5.504338e-05]\n",
      "\n",
      "\n",
      "MOON has come to color your dreams, STARS to make them musical and my SMS to give you warm and Peaceful Sleep. Good Night\n",
      "[4.5799927e-05]\n",
      "\n",
      "\n",
      "You are a winner U have been specially selected 2 receive Ã¥Â£1000 cash or a 4* holiday (flights inc) speak to a live operator 2 claim 0871277810810\n",
      "[0.9999995]\n",
      "\n",
      "\n",
      "Unless it's a situation where YOU GO GURL would be more appropriate\n",
      "[6.98105e-05]\n",
      "\n",
      "\n",
      "Awww dat is sweet! We can think of something to do he he! Have a nice time tonight ill probably txt u later cos im lonely :( xxx.\n",
      "[1.0432073e-10]\n",
      "\n",
      "\n",
      "Bring tat cd don forget\n",
      "[0.00027539]\n",
      "\n",
      "\n",
      "Single line with a big meaning::::: \\Miss anything 4 ur \\\"Best Life\\\" but\n",
      "[4.08225e-05]\n",
      "\n",
      "\n",
      "Jay's getting really impatient and belligerent\n",
      "[0.00071649]\n",
      "\n",
      "\n",
      "Lol they were mad at first but then they woke up and gave in.\n",
      "[4.1084013e-06]\n",
      "\n",
      "\n"
     ]
    }
   ],
   "source": [
    "#PRINTING OUTPUT\n",
    "for x in range(len(messages)):\n",
    "  print(messages[x])\n",
    "  print(classes[x])\n",
    "  print('\\n')"
   ]
  }
 ],
 "metadata": {
  "kernelspec": {
   "display_name": "Python 3 (ipykernel)",
   "language": "python",
   "name": "python3"
  },
  "language_info": {
   "codemirror_mode": {
    "name": "ipython",
    "version": 3
   },
   "file_extension": ".py",
   "mimetype": "text/x-python",
   "name": "python",
   "nbconvert_exporter": "python",
   "pygments_lexer": "ipython3",
   "version": "3.9.12"
  }
 },
 "nbformat": 4,
 "nbformat_minor": 5
}
